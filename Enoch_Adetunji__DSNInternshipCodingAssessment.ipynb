{
  "nbformat": 4,
  "nbformat_minor": 0,
  "metadata": {
    "colab": {
      "provenance": [],
      "collapsed_sections": []
    },
    "kernelspec": {
      "name": "python3",
      "display_name": "Python 3"
    },
    "language_info": {
      "name": "python"
    }
  },
  "cells": [
    {
      "cell_type": "markdown",
      "source": [
        "## Introduction\n",
        "\n",
        "Welcome to the DSN Internship Coding Challenge! This assessment will put your Python programming and problem-solving abilities to the test. The assessment is divided into two sections:\n",
        "\n",
        "- Section one of the assessmnet will require you to build a recall evaluation metric without using any external libraries.\n",
        "\n",
        "- Section two of the assessment will put your knowledge of \"list\" in Python to the test.\n",
        "\n",
        "Good luck! If you have questions about the framing of the questions, please contact **recruitment@datasciencenigeria.ai**\n",
        "\n",
        "### How to Use and Submit this Notebook.\n",
        "- Make a copy of this document and rename it **Firstname_Lastname_DSNInternshipCodingAssessment.ipynb**\n",
        "- Before attempting to submit, ensure that you have ran all of the cells in your notebook and the output visible.\n",
        "- Once you’ve completed all tasks, save and download a copy of the notebook as .ipynb\n",
        "- Submit a link (make sure that the link is set to \"Anyone on the internet with the link can view\") and the downloaded copy of your final notebook via this [link](https://forms.gle/wCnajnhCZBvqJH5Q9).\n",
        "\n",
        "### What Not to Do.\n",
        "- Do not share this document with any external party\n",
        "- No teamwork is permitted\n",
        "- No external libraries like (NumPy, Pandas, Keras, etc.) is allowed. Use only pure python\n",
        "- After submitting a copy of your script, you are not permitted to make any changes to the online version; any discrepancy between the online and submitted copies will render your application null and void."
      ],
      "metadata": {
        "id": "mNzNT79JEDS1"
      }
    },
    {
      "cell_type": "markdown",
      "source": [
        "## Section One\n",
        "\n",
        "Without using any external libraries (NumPy, Pandas, Keras, SkLearn etc.), build a **Recall Algorithm** that is capable of handling only binary classification (You can assume the positive label is 0). The function should take in two keyword arguments, “actual” and “predicted”. Both arguments are a list of numbers (integers) of equal length. The function should return a float value between 0 and 1 rounded up to two significant figures. \n",
        "\n",
        "**Example 1:** \n",
        "\n",
        "Input: actual = [0, 1, 0, 0, 1, 1], predicted = [0, 0, 1, 0, 0, 1] \n",
        "\n",
        "recall (actual, predicted)\n",
        "\n",
        "Output: 0.67 \n",
        "\n",
        "**Example 2:** \n",
        "\n",
        "Input: actual = [1, 1, 1, 0, 1, 0, 0, 1], predicted = [1, 0, 1, 0, 0, 1, 0, 1]  \n",
        "\n",
        "recall (actual, predicted)\n",
        "\n",
        "Output: 0.67"
      ],
      "metadata": {
        "id": "wZ2tUoaxMLM6"
      }
    },
    {
      "cell_type": "code",
      "execution_count": 10,
      "metadata": {
        "id": "Gv4ehXiyD8Rx"
      },
      "outputs": [],
      "source": [
        "# Do not change the name of the function and arguments\n",
        "def recall(actual, predicted):\n",
        "  positive_label = 0\n",
        "  tp = 0\n",
        "  fn = 0\n",
        "  actual_positive = tp + fn \n",
        "  recall_positive = tp/actual_positive\n",
        "  \n",
        "\n",
        "  return 0"
      ]
    },
    {
      "cell_type": "code",
      "source": [
        "# Do not edit this section\n",
        "result_1 = recall([0, 1, 0, 0, 1, 1], [0, 0, 1, 0, 0, 1])\n",
        "\n",
        "print(f\"Example 1: The Recall value is {result_1}\")\n",
        "\n",
        "result_2 = recall([1, 1, 1, 0, 1, 0, 0, 1], [1, 0, 1, 0, 0, 1, 0, 1])\n",
        "\n",
        "print(f\"Example 2: The Recall value is {result_2}\")"
      ],
      "metadata": {
        "colab": {
          "base_uri": "https://localhost:8080/",
          "height": 357
        },
        "id": "fMMrsNkhPJyc",
        "outputId": "c001b96b-c59b-4b7c-8785-d4385588de78"
      },
      "execution_count": 11,
      "outputs": [
        {
          "output_type": "error",
          "ename": "ZeroDivisionError",
          "evalue": "ignored",
          "traceback": [
            "\u001b[0;31m---------------------------------------------------------------------------\u001b[0m",
            "\u001b[0;31mZeroDivisionError\u001b[0m                         Traceback (most recent call last)",
            "\u001b[0;32m<ipython-input-11-5b20aaf0cd23>\u001b[0m in \u001b[0;36m<module>\u001b[0;34m\u001b[0m\n\u001b[1;32m      1\u001b[0m \u001b[0;31m# Do not edit this section\u001b[0m\u001b[0;34m\u001b[0m\u001b[0;34m\u001b[0m\u001b[0;34m\u001b[0m\u001b[0m\n\u001b[0;32m----> 2\u001b[0;31m \u001b[0mresult_1\u001b[0m \u001b[0;34m=\u001b[0m \u001b[0mrecall\u001b[0m\u001b[0;34m(\u001b[0m\u001b[0;34m[\u001b[0m\u001b[0;36m0\u001b[0m\u001b[0;34m,\u001b[0m \u001b[0;36m1\u001b[0m\u001b[0;34m,\u001b[0m \u001b[0;36m0\u001b[0m\u001b[0;34m,\u001b[0m \u001b[0;36m0\u001b[0m\u001b[0;34m,\u001b[0m \u001b[0;36m1\u001b[0m\u001b[0;34m,\u001b[0m \u001b[0;36m1\u001b[0m\u001b[0;34m]\u001b[0m\u001b[0;34m,\u001b[0m \u001b[0;34m[\u001b[0m\u001b[0;36m0\u001b[0m\u001b[0;34m,\u001b[0m \u001b[0;36m0\u001b[0m\u001b[0;34m,\u001b[0m \u001b[0;36m1\u001b[0m\u001b[0;34m,\u001b[0m \u001b[0;36m0\u001b[0m\u001b[0;34m,\u001b[0m \u001b[0;36m0\u001b[0m\u001b[0;34m,\u001b[0m \u001b[0;36m1\u001b[0m\u001b[0;34m]\u001b[0m\u001b[0;34m)\u001b[0m\u001b[0;34m\u001b[0m\u001b[0;34m\u001b[0m\u001b[0m\n\u001b[0m\u001b[1;32m      3\u001b[0m \u001b[0;34m\u001b[0m\u001b[0m\n\u001b[1;32m      4\u001b[0m \u001b[0mprint\u001b[0m\u001b[0;34m(\u001b[0m\u001b[0;34mf\"Example 1: The Recall value is {result_1}\"\u001b[0m\u001b[0;34m)\u001b[0m\u001b[0;34m\u001b[0m\u001b[0;34m\u001b[0m\u001b[0m\n\u001b[1;32m      5\u001b[0m \u001b[0;34m\u001b[0m\u001b[0m\n",
            "\u001b[0;32m<ipython-input-10-a88a4c7d782b>\u001b[0m in \u001b[0;36mrecall\u001b[0;34m(actual, predicted)\u001b[0m\n\u001b[1;32m      5\u001b[0m   \u001b[0mfn\u001b[0m \u001b[0;34m=\u001b[0m \u001b[0;36m0\u001b[0m\u001b[0;34m\u001b[0m\u001b[0;34m\u001b[0m\u001b[0m\n\u001b[1;32m      6\u001b[0m   \u001b[0mactual_positive\u001b[0m \u001b[0;34m=\u001b[0m \u001b[0mtp\u001b[0m \u001b[0;34m+\u001b[0m \u001b[0mfn\u001b[0m\u001b[0;34m\u001b[0m\u001b[0;34m\u001b[0m\u001b[0m\n\u001b[0;32m----> 7\u001b[0;31m   \u001b[0mrecall_positive\u001b[0m \u001b[0;34m=\u001b[0m \u001b[0mtp\u001b[0m\u001b[0;34m/\u001b[0m\u001b[0mactual_positive\u001b[0m\u001b[0;34m\u001b[0m\u001b[0;34m\u001b[0m\u001b[0m\n\u001b[0m\u001b[1;32m      8\u001b[0m \u001b[0;34m\u001b[0m\u001b[0m\n\u001b[1;32m      9\u001b[0m \u001b[0;34m\u001b[0m\u001b[0m\n",
            "\u001b[0;31mZeroDivisionError\u001b[0m: division by zero"
          ]
        }
      ]
    },
    {
      "cell_type": "markdown",
      "source": [
        "## Section Two\n",
        "\n",
        "Write a function flatten_lists that takes in a list of lists and outputs a sorted list of elements of sublists of the input list.\n",
        "\n",
        "> **Example 1:**\n",
        ">\n",
        "> Input: actual = [ [2,13,44], [6,7] ]\n",
        ">\n",
        "> flatten_lists (list_of_list)\n",
        ">\n",
        "> Output: [2, 6, 7, 13, 44]\n",
        "\n",
        "> **Example 2:** \n",
        ">\n",
        "> Input: actual = [ [10], [90, 30], [11,12] ]\n",
        ">\n",
        "> flatten_lists (list_of_list)\n",
        "> \n",
        "> Output: [10, 11, 12, 30, 90]\n",
        "\n",
        "\n"
      ],
      "metadata": {
        "id": "ajatrt0HEB7e"
      }
    },
    {
      "cell_type": "code",
      "source": [
        "# Do not change the name of the function and arguments\n",
        "def flatten_lists(list_of_list):\n",
        "  x = [actual for sublist in list_of_list for actual in sublist]\n",
        "  x.sort()\n",
        "  return [x]"
      ],
      "metadata": {
        "id": "410j-TJlO5t6"
      },
      "execution_count": 12,
      "outputs": []
    },
    {
      "cell_type": "code",
      "source": [
        "# Do not edit this section\n",
        "result_1 = flatten_lists([ [2,13,44], [6,7] ])\n",
        "\n",
        "print(f\"Example 1: The flatten lists is {result_1}\")\n",
        "\n",
        "result_2 = flatten_lists([ [10], [90, 30], [11,12] ])\n",
        "\n",
        "print(f\"Example 2: The flatten lists is {result_2}\")"
      ],
      "metadata": {
        "colab": {
          "base_uri": "https://localhost:8080/"
        },
        "id": "8Cex0bAaO_bG",
        "outputId": "d98d8895-843d-4f2d-97f9-43d2ea1ef4ee"
      },
      "execution_count": 13,
      "outputs": [
        {
          "output_type": "stream",
          "name": "stdout",
          "text": [
            "Example 1: The flatten lists is [[2, 6, 7, 13, 44]]\n",
            "Example 2: The flatten lists is [[10, 11, 12, 30, 90]]\n"
          ]
        }
      ]
    },
    {
      "cell_type": "markdown",
      "source": [
        "## Addtional Point\n",
        "Kindly outline your solution for the two section, explaining your solution and why you favour one method over another."
      ],
      "metadata": {
        "id": "xg5DiYB1S6Nk"
      }
    },
    {
      "cell_type": "markdown",
      "source": [
        "### Section 1\n",
        "I tried finding my way around this but I couldn't get it\n",
        "\n",
        "### Section 2\n",
        "my solution is a nested list comprehension which requires me using a for loop statement in flatenning out \"list_of_list\" and then sorting it out in an ascending order."
      ],
      "metadata": {
        "id": "X0UW_2LeTpDz"
      }
    },
    {
      "cell_type": "code",
      "source": [],
      "metadata": {
        "id": "VmoTWsmRrSr_"
      },
      "execution_count": null,
      "outputs": []
    }
  ]
}